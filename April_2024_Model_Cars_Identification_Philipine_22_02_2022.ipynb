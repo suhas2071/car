{
  "nbformat": 4,
  "nbformat_minor": 0,
  "metadata": {
    "colab": {
      "provenance": []
    },
    "kernelspec": {
      "name": "python3",
      "display_name": "Python 3"
    },
    "language_info": {
      "name": "python"
    }
  },
  "cells": [
    {
      "cell_type": "code",
      "metadata": {
        "colab": {
          "base_uri": "https://localhost:8080/"
        },
        "id": "wYvLUJ4xNAc7",
        "outputId": "2b46aaca-707b-4c4c-be46-075840782483"
      },
      "source": [
        "%tensorflow_version 2.0.0\n",
        "import tensorflow as tf\n",
        "from tensorflow.keras import Sequential,Model\n",
        "from tensorflow.keras.layers import Dense,Dropout,Flatten,BatchNormalization\n",
        "from tensorflow.keras.applications.vgg16 import VGG16,preprocess_input\n",
        "from tensorflow.keras.preprocessing.image import ImageDataGenerator\n",
        "import numpy as np\n",
        "import pandas as pd\n",
        "import matplotlib.pyplot as plt\n",
        "%matplotlib inline"
      ],
      "execution_count": null,
      "outputs": [
        {
          "output_type": "stream",
          "name": "stdout",
          "text": [
            "Colab only includes TensorFlow 2.x; %tensorflow_version has no effect.\n"
          ]
        }
      ]
    },
    {
      "cell_type": "code",
      "metadata": {
        "colab": {
          "base_uri": "https://localhost:8080/"
        },
        "id": "YgKgAieKOB1_",
        "outputId": "1887a4d0-0b06-4772-8e42-02bd614dfec3"
      },
      "source": [
        "from google.colab import drive\n",
        "drive.mount('/content/drive')"
      ],
      "execution_count": null,
      "outputs": [
        {
          "output_type": "stream",
          "name": "stdout",
          "text": [
            "Mounted at /content/drive\n"
          ]
        }
      ]
    },
    {
      "cell_type": "code",
      "metadata": {
        "colab": {
          "base_uri": "https://localhost:8080/"
        },
        "id": "3YExX_xuOYP3",
        "outputId": "9d5adf72-1f45-4053-8642-e6b1a51da3a2"
      },
      "source": [
        "!uname - ar"
      ],
      "execution_count": null,
      "outputs": [
        {
          "output_type": "stream",
          "name": "stdout",
          "text": [
            "uname: extra operand ‘-’\n",
            "Try 'uname --help' for more information.\n"
          ]
        }
      ]
    },
    {
      "cell_type": "code",
      "metadata": {
        "colab": {
          "base_uri": "https://localhost:8080/"
        },
        "id": "CBTNfB-RQlem",
        "outputId": "2a362cb5-216d-4243-9076-985bc09aa503"
      },
      "source": [
        "cd /content/drive/MyDrive"
      ],
      "execution_count": null,
      "outputs": [
        {
          "output_type": "stream",
          "name": "stdout",
          "text": [
            "/content/drive/MyDrive\n"
          ]
        }
      ]
    },
    {
      "cell_type": "code",
      "metadata": {
        "colab": {
          "base_uri": "https://localhost:8080/"
        },
        "id": "5E2Do1DiQsam",
        "outputId": "e2b4986c-2315-48bd-81f6-5ca1284a789a"
      },
      "source": [
        "!unzip Datasets"
      ],
      "execution_count": null,
      "outputs": [
        {
          "output_type": "stream",
          "name": "stdout",
          "text": [
            "Archive:  Datasets.zip\n",
            "   creating: Datasets/\n",
            "   creating: Datasets/Test/\n",
            "   creating: Datasets/Test/audi/\n",
            "  inflating: Datasets/Test/audi/21.jpg  \n",
            "  inflating: Datasets/Test/audi/22.jpg  \n",
            "  inflating: Datasets/Test/audi/23.jpg  \n",
            "  inflating: Datasets/Test/audi/24.jpg  \n",
            "  inflating: Datasets/Test/audi/25.jpg  \n",
            "  inflating: Datasets/Test/audi/26.jpg  \n",
            "  inflating: Datasets/Test/audi/27.jpg  \n",
            " extracting: Datasets/Test/audi/28.jpg  \n",
            "  inflating: Datasets/Test/audi/29.jpg  \n",
            "   creating: Datasets/Test/lamborghini/\n",
            "  inflating: Datasets/Test/lamborghini/1.jpg  \n",
            "  inflating: Datasets/Test/lamborghini/10.jpg  \n",
            "  inflating: Datasets/Test/lamborghini/11.jpg  \n",
            "  inflating: Datasets/Test/lamborghini/12.jpg  \n",
            "  inflating: Datasets/Test/lamborghini/13.jpg  \n",
            "  inflating: Datasets/Test/lamborghini/14.jpg  \n",
            "  inflating: Datasets/Test/lamborghini/15.jpg  \n",
            "  inflating: Datasets/Test/lamborghini/16.jpg  \n",
            "  inflating: Datasets/Test/lamborghini/17.jpg  \n",
            "  inflating: Datasets/Test/lamborghini/18.jpg  \n",
            "  inflating: Datasets/Test/lamborghini/19.jpg  \n",
            "  inflating: Datasets/Test/lamborghini/2.jpg  \n",
            "  inflating: Datasets/Test/lamborghini/20.jog.jpg  \n",
            "  inflating: Datasets/Test/lamborghini/21.jpg  \n",
            "  inflating: Datasets/Test/lamborghini/22.jpg  \n",
            "  inflating: Datasets/Test/lamborghini/23.jpg  \n",
            "  inflating: Datasets/Test/lamborghini/24.jpg  \n",
            "  inflating: Datasets/Test/lamborghini/25.jpg  \n",
            "  inflating: Datasets/Test/lamborghini/26.jpg  \n",
            "  inflating: Datasets/Test/lamborghini/27.jpg  \n",
            "  inflating: Datasets/Test/lamborghini/28.jpg  \n",
            "  inflating: Datasets/Test/lamborghini/29.jpg  \n",
            "  inflating: Datasets/Test/lamborghini/3.jpg  \n",
            "  inflating: Datasets/Test/lamborghini/30.jpg  \n",
            "  inflating: Datasets/Test/lamborghini/4.jpg  \n",
            "  inflating: Datasets/Test/lamborghini/5.jpg  \n",
            "  inflating: Datasets/Test/lamborghini/6.jpg  \n",
            "  inflating: Datasets/Test/lamborghini/7.jpg  \n",
            "  inflating: Datasets/Test/lamborghini/8.jpg  \n",
            "  inflating: Datasets/Test/lamborghini/9.jpg  \n",
            "   creating: Datasets/Test/mercedes/\n",
            "  inflating: Datasets/Test/mercedes/27.jpg  \n",
            "  inflating: Datasets/Test/mercedes/28.jpg  \n",
            "  inflating: Datasets/Test/mercedes/29.jpg  \n",
            "  inflating: Datasets/Test/mercedes/30.jpg  \n",
            "  inflating: Datasets/Test/mercedes/31.jpg  \n",
            "  inflating: Datasets/Test/mercedes/32.jpg  \n",
            "  inflating: Datasets/Test/mercedes/33.jpg  \n",
            "  inflating: Datasets/Test/mercedes/34.jpg  \n",
            "  inflating: Datasets/Test/mercedes/35.jpg  \n",
            "  inflating: Datasets/Test/mercedes/36.jpg  \n",
            "  inflating: Datasets/Test/mercedes/37.jpg  \n",
            "  inflating: Datasets/Test/mercedes/38.jpg  \n",
            "  inflating: Datasets/Test/mercedes/39.jpg  \n",
            "  inflating: Datasets/Test/mercedes/40.jpg  \n",
            "  inflating: Datasets/Test/mercedes/41.jpg  \n",
            " extracting: Datasets/Test/mercedes/42.jpg  \n",
            "  inflating: Datasets/Test/mercedes/43.jpg  \n",
            "  inflating: Datasets/Test/mercedes/44.jpg  \n",
            "  inflating: Datasets/Test/mercedes/45.jpg  \n",
            "   creating: Datasets/Train/\n",
            "   creating: Datasets/Train/audi/\n",
            "  inflating: Datasets/Train/audi/1.jpg  \n",
            "  inflating: Datasets/Train/audi/10.jpg  \n",
            "  inflating: Datasets/Train/audi/11.jpg  \n",
            "  inflating: Datasets/Train/audi/12.jpg  \n",
            "  inflating: Datasets/Train/audi/13.jpg  \n",
            "  inflating: Datasets/Train/audi/14.jpg  \n",
            "  inflating: Datasets/Train/audi/15.jpg  \n",
            "  inflating: Datasets/Train/audi/16.jpg  \n",
            "  inflating: Datasets/Train/audi/17.jpg  \n",
            "  inflating: Datasets/Train/audi/18.jpg  \n",
            "  inflating: Datasets/Train/audi/19.jpg  \n",
            "  inflating: Datasets/Train/audi/2.jpg  \n",
            "  inflating: Datasets/Train/audi/20.jpg  \n",
            "  inflating: Datasets/Train/audi/3.jpg  \n",
            "  inflating: Datasets/Train/audi/4.jpg  \n",
            "  inflating: Datasets/Train/audi/5.jpg  \n",
            "  inflating: Datasets/Train/audi/6.jpg  \n",
            "  inflating: Datasets/Train/audi/7.jpg  \n",
            "  inflating: Datasets/Train/audi/8.jpg  \n",
            "  inflating: Datasets/Train/audi/9.jpg  \n",
            "   creating: Datasets/Train/lamborghini/\n",
            "  inflating: Datasets/Train/lamborghini/1.jpg  \n",
            "  inflating: Datasets/Train/lamborghini/10.jpg  \n",
            "  inflating: Datasets/Train/lamborghini/11.jpg  \n",
            "  inflating: Datasets/Train/lamborghini/12.jpg  \n",
            "  inflating: Datasets/Train/lamborghini/13.jpg  \n",
            "  inflating: Datasets/Train/lamborghini/14.jpg  \n",
            "  inflating: Datasets/Train/lamborghini/15.jpg  \n",
            "  inflating: Datasets/Train/lamborghini/16.jpg  \n",
            "  inflating: Datasets/Train/lamborghini/17.jpg  \n",
            "  inflating: Datasets/Train/lamborghini/18.jpg  \n",
            "  inflating: Datasets/Train/lamborghini/19.jpg  \n",
            "  inflating: Datasets/Train/lamborghini/2.jpg  \n",
            "  inflating: Datasets/Train/lamborghini/3.jpg  \n",
            "  inflating: Datasets/Train/lamborghini/4.jpg  \n",
            "  inflating: Datasets/Train/lamborghini/5.jpg  \n",
            "  inflating: Datasets/Train/lamborghini/6.jpg  \n",
            "  inflating: Datasets/Train/lamborghini/7.jpg  \n",
            "  inflating: Datasets/Train/lamborghini/8.jpg  \n",
            "  inflating: Datasets/Train/lamborghini/9.jpg  \n",
            "   creating: Datasets/Train/mercedes/\n",
            "  inflating: Datasets/Train/mercedes/1.jpg  \n",
            "  inflating: Datasets/Train/mercedes/10.jpg  \n",
            "  inflating: Datasets/Train/mercedes/11.jpg  \n",
            "  inflating: Datasets/Train/mercedes/12.jpg  \n",
            "  inflating: Datasets/Train/mercedes/13.jpg  \n",
            "  inflating: Datasets/Train/mercedes/14.jpg  \n",
            "  inflating: Datasets/Train/mercedes/15.jpg  \n",
            "  inflating: Datasets/Train/mercedes/16.jpg  \n",
            "  inflating: Datasets/Train/mercedes/17.jpg  \n",
            "  inflating: Datasets/Train/mercedes/18.jpg  \n",
            "  inflating: Datasets/Train/mercedes/19.jpg  \n",
            "  inflating: Datasets/Train/mercedes/2.jpg  \n",
            "  inflating: Datasets/Train/mercedes/20.jpg  \n",
            "  inflating: Datasets/Train/mercedes/21.jpg  \n",
            "  inflating: Datasets/Train/mercedes/22.jpg  \n",
            "  inflating: Datasets/Train/mercedes/23.jpg  \n",
            "  inflating: Datasets/Train/mercedes/24.jpg  \n",
            "  inflating: Datasets/Train/mercedes/25.jpg  \n",
            " extracting: Datasets/Train/mercedes/3.jpg  \n",
            " extracting: Datasets/Train/mercedes/4.jpg  \n",
            "  inflating: Datasets/Train/mercedes/5.jpg  \n",
            "  inflating: Datasets/Train/mercedes/6.jpg  \n",
            "  inflating: Datasets/Train/mercedes/7.jpg  \n",
            "  inflating: Datasets/Train/mercedes/8.jpf.jpg  \n",
            "  inflating: Datasets/Train/mercedes/9.jpg  \n"
          ]
        }
      ]
    },
    {
      "cell_type": "code",
      "metadata": {
        "colab": {
          "base_uri": "https://localhost:8080/"
        },
        "id": "vPJbI2hdQ1iG",
        "outputId": "6e742f10-0220-4103-9b89-05fe387e6187"
      },
      "source": [
        "# Importing the Keras libraries and packages\n",
        "from tensorflow.keras.models import Sequential\n",
        "from tensorflow.keras.layers import Conv2D\n",
        "from tensorflow.keras.layers import MaxPooling2D\n",
        "from tensorflow.keras.layers import Flatten\n",
        "from tensorflow.keras.layers import Dense\n",
        "from tensorflow.keras import losses\n",
        "from tensorflow.keras import optimizers\n",
        "from tensorflow.keras import metrics\n",
        "# Initialising the CNN\n",
        "classifier = Sequential()\n",
        "# Step 1 - Convolution\n",
        "classifier.add(Conv2D(32, (3, 3), input_shape = (64, 64, 3), activation = 'relu'))\n",
        "# Step 2 - Pooling\n",
        "classifier.add(MaxPooling2D(pool_size = (2, 2)))\n",
        "# Adding a second convolutional layer\n",
        "classifier.add(Conv2D(32, (3, 3), activation = 'relu'))\n",
        "classifier.add(MaxPooling2D(pool_size = (2, 2)))\n",
        "# Step 3 - Flattening\n",
        "classifier.add(Flatten())\n",
        "# Step 4 - Full connection\n",
        "classifier.add(Dense(units = 128, activation = 'relu'))\n",
        "classifier.add(Dense(units = 3, activation = 'softmax'))\n",
        "classifier.summary()"
      ],
      "execution_count": null,
      "outputs": [
        {
          "output_type": "stream",
          "name": "stdout",
          "text": [
            "Model: \"sequential\"\n",
            "_________________________________________________________________\n",
            " Layer (type)                Output Shape              Param #   \n",
            "=================================================================\n",
            " conv2d (Conv2D)             (None, 62, 62, 32)        896       \n",
            "                                                                 \n",
            " max_pooling2d (MaxPooling2  (None, 31, 31, 32)        0         \n",
            " D)                                                              \n",
            "                                                                 \n",
            " conv2d_1 (Conv2D)           (None, 29, 29, 32)        9248      \n",
            "                                                                 \n",
            " max_pooling2d_1 (MaxPoolin  (None, 14, 14, 32)        0         \n",
            " g2D)                                                            \n",
            "                                                                 \n",
            " flatten (Flatten)           (None, 6272)              0         \n",
            "                                                                 \n",
            " dense (Dense)               (None, 128)               802944    \n",
            "                                                                 \n",
            " dense_1 (Dense)             (None, 3)                 387       \n",
            "                                                                 \n",
            "=================================================================\n",
            "Total params: 813475 (3.10 MB)\n",
            "Trainable params: 813475 (3.10 MB)\n",
            "Non-trainable params: 0 (0.00 Byte)\n",
            "_________________________________________________________________\n"
          ]
        }
      ]
    },
    {
      "cell_type": "code",
      "metadata": {
        "id": "iKnebdDiRr-n"
      },
      "source": [
        "# Compiling the CNN\n",
        "classifier.compile(optimizer = 'adam', loss = 'categorical_crossentropy', metrics = ['accuracy'])\n",
        "#categorical_crossentropy\n",
        "#https://keras.io/api/losses/probabilistic_losses/#categoricalcrossentropy-class\n",
        "\n",
        "#classifier.compile(optimizer = 'sgd',loss = 'mean_squared_error', metrics = [metrics.categorical_accuracy])"
      ],
      "execution_count": null,
      "outputs": []
    },
    {
      "cell_type": "code",
      "metadata": {
        "colab": {
          "base_uri": "https://localhost:8080/"
        },
        "id": "Ug9ME8WVR_CX",
        "outputId": "6c8c9116-0351-4ff1-ef17-09aa8b573a19"
      },
      "source": [
        "# Part 2 - Fitting the CNN to the images\n",
        "from keras.preprocessing.image import ImageDataGenerator\n",
        "\n",
        "train_datagen = ImageDataGenerator(rescale = 1./255,\n",
        "shear_range = 0.2,\n",
        "zoom_range = 0.2,\n",
        "horizontal_flip = True)\n",
        "\n",
        "test_datagen = ImageDataGenerator(rescale = 1./255)\n",
        "#/content/drive/MyDrive/Datasets/Train\n",
        "ph_training_set = train_datagen.flow_from_directory('/content/drive/MyDrive/Datasets/Train',\n",
        "target_size = (64, 64),\n",
        "batch_size = 32,\n",
        "class_mode = 'categorical')\n",
        "\n",
        "ph_test_set = test_datagen.flow_from_directory('/content/drive/MyDrive/Datasets/Test',\n",
        "target_size = (64, 64),\n",
        "batch_size = 32,\n",
        "class_mode = 'categorical')\n",
        "\n",
        "#https://towardsdatascience.com/convolutional-neural-network-feature-map-and-filter-visualization-f75012a5a49c"
      ],
      "execution_count": null,
      "outputs": [
        {
          "output_type": "stream",
          "name": "stdout",
          "text": [
            "Found 64 images belonging to 3 classes.\n",
            "Found 58 images belonging to 3 classes.\n"
          ]
        }
      ]
    },
    {
      "cell_type": "code",
      "metadata": {
        "colab": {
          "base_uri": "https://localhost:8080/"
        },
        "id": "2vJbWP7uSsnx",
        "outputId": "75de5591-6304-4ee8-da83-25c9ec1f6ddc"
      },
      "source": [
        "# fit the model\n",
        "# Run the cell. It will take some time to execute\n",
        "r = classifier.fit_generator(\n",
        "  ph_training_set,\n",
        "  validation_data=ph_test_set,\n",
        "  epochs=50,\n",
        "  steps_per_epoch=len(ph_training_set),\n",
        "  validation_steps=len(ph_test_set)\n",
        ")"
      ],
      "execution_count": null,
      "outputs": [
        {
          "output_type": "stream",
          "name": "stderr",
          "text": [
            "<ipython-input-9-be2bf5cac9c5>:3: UserWarning: `Model.fit_generator` is deprecated and will be removed in a future version. Please use `Model.fit`, which supports generators.\n",
            "  r = classifier.fit_generator(\n"
          ]
        },
        {
          "output_type": "stream",
          "name": "stdout",
          "text": [
            "Epoch 1/50\n",
            "2/2 [==============================] - 3s 1s/step - loss: 1.3007 - accuracy: 0.3906 - val_loss: 1.4122 - val_accuracy: 0.3103\n",
            "Epoch 2/50\n",
            "2/2 [==============================] - 2s 998ms/step - loss: 1.1174 - accuracy: 0.4844 - val_loss: 1.3032 - val_accuracy: 0.1724\n",
            "Epoch 3/50\n",
            "2/2 [==============================] - 3s 2s/step - loss: 1.0762 - accuracy: 0.4375 - val_loss: 1.0665 - val_accuracy: 0.4655\n",
            "Epoch 4/50\n",
            "2/2 [==============================] - 1s 889ms/step - loss: 1.0268 - accuracy: 0.5781 - val_loss: 1.0134 - val_accuracy: 0.6034\n",
            "Epoch 5/50\n",
            "2/2 [==============================] - 1s 908ms/step - loss: 1.0110 - accuracy: 0.5312 - val_loss: 1.0106 - val_accuracy: 0.6034\n",
            "Epoch 6/50\n",
            "2/2 [==============================] - 1s 911ms/step - loss: 0.9585 - accuracy: 0.5938 - val_loss: 1.0099 - val_accuracy: 0.5517\n",
            "Epoch 7/50\n",
            "2/2 [==============================] - 1s 836ms/step - loss: 0.9220 - accuracy: 0.6094 - val_loss: 1.0531 - val_accuracy: 0.4483\n",
            "Epoch 8/50\n",
            "2/2 [==============================] - 1s 878ms/step - loss: 0.8591 - accuracy: 0.6094 - val_loss: 1.0108 - val_accuracy: 0.5517\n",
            "Epoch 9/50\n",
            "2/2 [==============================] - 1s 887ms/step - loss: 0.8346 - accuracy: 0.6719 - val_loss: 0.9702 - val_accuracy: 0.5172\n",
            "Epoch 10/50\n",
            "2/2 [==============================] - 1s 969ms/step - loss: 0.7784 - accuracy: 0.7188 - val_loss: 0.9221 - val_accuracy: 0.7069\n",
            "Epoch 11/50\n",
            "2/2 [==============================] - 2s 1s/step - loss: 0.7033 - accuracy: 0.7031 - val_loss: 1.0041 - val_accuracy: 0.6034\n",
            "Epoch 12/50\n",
            "2/2 [==============================] - 1s 640ms/step - loss: 0.7097 - accuracy: 0.7344 - val_loss: 0.9499 - val_accuracy: 0.6207\n",
            "Epoch 13/50\n",
            "2/2 [==============================] - 1s 641ms/step - loss: 0.5896 - accuracy: 0.7969 - val_loss: 0.8551 - val_accuracy: 0.6724\n",
            "Epoch 14/50\n",
            "2/2 [==============================] - 1s 905ms/step - loss: 0.6230 - accuracy: 0.6875 - val_loss: 0.8929 - val_accuracy: 0.5345\n",
            "Epoch 15/50\n",
            "2/2 [==============================] - 1s 896ms/step - loss: 0.5587 - accuracy: 0.7812 - val_loss: 0.9971 - val_accuracy: 0.6379\n",
            "Epoch 16/50\n",
            "2/2 [==============================] - 1s 596ms/step - loss: 0.5069 - accuracy: 0.8594 - val_loss: 0.9276 - val_accuracy: 0.7241\n",
            "Epoch 17/50\n",
            "2/2 [==============================] - 1s 680ms/step - loss: 0.4544 - accuracy: 0.8438 - val_loss: 0.8400 - val_accuracy: 0.6379\n",
            "Epoch 18/50\n",
            "2/2 [==============================] - 2s 990ms/step - loss: 0.4557 - accuracy: 0.8750 - val_loss: 0.8371 - val_accuracy: 0.6552\n",
            "Epoch 19/50\n",
            "2/2 [==============================] - 1s 557ms/step - loss: 0.4044 - accuracy: 0.8750 - val_loss: 0.9187 - val_accuracy: 0.7069\n",
            "Epoch 20/50\n",
            "2/2 [==============================] - 1s 572ms/step - loss: 0.3515 - accuracy: 0.8906 - val_loss: 0.8889 - val_accuracy: 0.6897\n",
            "Epoch 21/50\n",
            "2/2 [==============================] - 1s 896ms/step - loss: 0.3067 - accuracy: 0.9531 - val_loss: 0.8912 - val_accuracy: 0.6552\n",
            "Epoch 22/50\n",
            "2/2 [==============================] - 1s 896ms/step - loss: 0.2807 - accuracy: 0.9062 - val_loss: 0.9757 - val_accuracy: 0.7241\n",
            "Epoch 23/50\n",
            "2/2 [==============================] - 1s 870ms/step - loss: 0.2673 - accuracy: 0.8750 - val_loss: 1.0089 - val_accuracy: 0.6897\n",
            "Epoch 24/50\n",
            "2/2 [==============================] - 1s 951ms/step - loss: 0.2532 - accuracy: 0.9062 - val_loss: 0.9624 - val_accuracy: 0.6552\n",
            "Epoch 25/50\n",
            "2/2 [==============================] - 1s 1s/step - loss: 0.2140 - accuracy: 0.9219 - val_loss: 1.0396 - val_accuracy: 0.7241\n",
            "Epoch 26/50\n",
            "2/2 [==============================] - 1s 781ms/step - loss: 0.1857 - accuracy: 0.9844 - val_loss: 1.0609 - val_accuracy: 0.7241\n",
            "Epoch 27/50\n",
            "2/2 [==============================] - 1s 847ms/step - loss: 0.1654 - accuracy: 0.9688 - val_loss: 1.0603 - val_accuracy: 0.6552\n",
            "Epoch 28/50\n",
            "2/2 [==============================] - 1s 639ms/step - loss: 0.1715 - accuracy: 0.9375 - val_loss: 1.0844 - val_accuracy: 0.6552\n",
            "Epoch 29/50\n",
            "2/2 [==============================] - 1s 905ms/step - loss: 0.1983 - accuracy: 0.8906 - val_loss: 1.2180 - val_accuracy: 0.6897\n",
            "Epoch 30/50\n",
            "2/2 [==============================] - 1s 894ms/step - loss: 0.1289 - accuracy: 0.9844 - val_loss: 1.2101 - val_accuracy: 0.7241\n",
            "Epoch 31/50\n",
            "2/2 [==============================] - 1s 668ms/step - loss: 0.1105 - accuracy: 0.9688 - val_loss: 1.1192 - val_accuracy: 0.6552\n",
            "Epoch 32/50\n",
            "2/2 [==============================] - 1s 894ms/step - loss: 0.1466 - accuracy: 0.9375 - val_loss: 1.1386 - val_accuracy: 0.6724\n",
            "Epoch 33/50\n",
            "2/2 [==============================] - 2s 1s/step - loss: 0.1362 - accuracy: 0.9531 - val_loss: 1.3094 - val_accuracy: 0.7241\n",
            "Epoch 34/50\n",
            "2/2 [==============================] - 2s 1s/step - loss: 0.0955 - accuracy: 0.9688 - val_loss: 1.2053 - val_accuracy: 0.6724\n",
            "Epoch 35/50\n",
            "2/2 [==============================] - 1s 659ms/step - loss: 0.0936 - accuracy: 0.9844 - val_loss: 1.2385 - val_accuracy: 0.6724\n",
            "Epoch 36/50\n",
            "2/2 [==============================] - 1s 585ms/step - loss: 0.1091 - accuracy: 0.9688 - val_loss: 1.2946 - val_accuracy: 0.7069\n",
            "Epoch 37/50\n",
            "2/2 [==============================] - 1s 879ms/step - loss: 0.0605 - accuracy: 0.9844 - val_loss: 1.4115 - val_accuracy: 0.7241\n",
            "Epoch 38/50\n",
            "2/2 [==============================] - 1s 823ms/step - loss: 0.0356 - accuracy: 1.0000 - val_loss: 1.4180 - val_accuracy: 0.7069\n",
            "Epoch 39/50\n",
            "2/2 [==============================] - 1s 651ms/step - loss: 0.0655 - accuracy: 0.9844 - val_loss: 1.3763 - val_accuracy: 0.6897\n",
            "Epoch 40/50\n",
            "2/2 [==============================] - 1s 588ms/step - loss: 0.0458 - accuracy: 1.0000 - val_loss: 1.4128 - val_accuracy: 0.7069\n",
            "Epoch 41/50\n",
            "2/2 [==============================] - 1s 629ms/step - loss: 0.0856 - accuracy: 0.9688 - val_loss: 1.5422 - val_accuracy: 0.7586\n",
            "Epoch 42/50\n",
            "2/2 [==============================] - 1s 759ms/step - loss: 0.0460 - accuracy: 1.0000 - val_loss: 1.4985 - val_accuracy: 0.6897\n",
            "Epoch 43/50\n",
            "2/2 [==============================] - 1s 834ms/step - loss: 0.0586 - accuracy: 0.9844 - val_loss: 1.4078 - val_accuracy: 0.6724\n",
            "Epoch 44/50\n",
            "2/2 [==============================] - 1s 907ms/step - loss: 0.0618 - accuracy: 0.9844 - val_loss: 1.5492 - val_accuracy: 0.7069\n",
            "Epoch 45/50\n",
            "2/2 [==============================] - 1s 645ms/step - loss: 0.0746 - accuracy: 0.9531 - val_loss: 1.5473 - val_accuracy: 0.6897\n",
            "Epoch 46/50\n",
            "2/2 [==============================] - 1s 601ms/step - loss: 0.0363 - accuracy: 1.0000 - val_loss: 1.5290 - val_accuracy: 0.6379\n",
            "Epoch 47/50\n",
            "2/2 [==============================] - 1s 847ms/step - loss: 0.0595 - accuracy: 0.9844 - val_loss: 1.6228 - val_accuracy: 0.6897\n",
            "Epoch 48/50\n",
            "2/2 [==============================] - 1s 629ms/step - loss: 0.0588 - accuracy: 0.9844 - val_loss: 1.8977 - val_accuracy: 0.7586\n",
            "Epoch 49/50\n",
            "2/2 [==============================] - 1s 609ms/step - loss: 0.0795 - accuracy: 0.9688 - val_loss: 1.5957 - val_accuracy: 0.6897\n",
            "Epoch 50/50\n",
            "2/2 [==============================] - 1s 941ms/step - loss: 0.0539 - accuracy: 0.9688 - val_loss: 1.5555 - val_accuracy: 0.6207\n"
          ]
        }
      ]
    },
    {
      "cell_type": "code",
      "metadata": {
        "id": "-CWKq3vbXN9Z"
      },
      "source": [
        "from tensorflow.keras.models import load_model\n",
        "\n",
        "classifier.save('Model_Cars-identification-04-03-2024.h5')"
      ],
      "execution_count": null,
      "outputs": []
    },
    {
      "cell_type": "code",
      "source": [
        "# Second Part-2"
      ],
      "metadata": {
        "id": "3NBj7vOOvA0a"
      },
      "execution_count": null,
      "outputs": []
    },
    {
      "cell_type": "code",
      "source": [
        "!wget https://computer-vision-2022.s3.ap-south-1.amazonaws.com/Model_Cars-identification-06-10-2021.h5"
      ],
      "metadata": {
        "colab": {
          "base_uri": "https://localhost:8080/"
        },
        "id": "amy1AGFEoqo9",
        "outputId": "aef28b1f-45f7-4f15-c683-537ece7c47fc"
      },
      "execution_count": null,
      "outputs": [
        {
          "output_type": "stream",
          "name": "stdout",
          "text": [
            "--2023-11-20 14:29:55--  https://computer-vision-2022.s3.ap-south-1.amazonaws.com/Model_Cars-identification-06-10-2021.h5\n",
            "Resolving computer-vision-2022.s3.ap-south-1.amazonaws.com (computer-vision-2022.s3.ap-south-1.amazonaws.com)... 3.5.212.121, 52.219.64.99, 52.219.156.174, ...\n",
            "Connecting to computer-vision-2022.s3.ap-south-1.amazonaws.com (computer-vision-2022.s3.ap-south-1.amazonaws.com)|3.5.212.121|:443... connected.\n",
            "HTTP request sent, awaiting response... 200 OK\n",
            "Length: 9807272 (9.4M) [binary/octet-stream]\n",
            "Saving to: ‘Model_Cars-identification-06-10-2021.h5’\n",
            "\n",
            "Model_Cars-identifi 100%[===================>]   9.35M  4.07MB/s    in 2.3s    \n",
            "\n",
            "2023-11-20 14:29:58 (4.07 MB/s) - ‘Model_Cars-identification-06-10-2021.h5’ saved [9807272/9807272]\n",
            "\n"
          ]
        }
      ]
    },
    {
      "cell_type": "code",
      "metadata": {
        "colab": {
          "base_uri": "https://localhost:8080/"
        },
        "id": "MSNuZv3zXozO",
        "outputId": "2c28b139-fe0c-47ac-9f89-a97828ab1e53"
      },
      "source": [
        "!pwd"
      ],
      "execution_count": null,
      "outputs": [
        {
          "output_type": "stream",
          "name": "stdout",
          "text": [
            "/content/drive/MyDrive\n"
          ]
        }
      ]
    },
    {
      "cell_type": "code",
      "metadata": {
        "id": "J1LgHCb2Xp9t"
      },
      "source": [
        "from tensorflow.keras.models import load_model\n",
        "from tensorflow.keras.preprocessing import image"
      ],
      "execution_count": null,
      "outputs": []
    },
    {
      "cell_type": "code",
      "metadata": {
        "id": "Q7w4J1QZXtLN"
      },
      "source": [
        "model=load_model('/content/drive/MyDrive/Model_Cars-identification-04-03-2024.h5')"
      ],
      "execution_count": null,
      "outputs": []
    },
    {
      "cell_type": "code",
      "metadata": {
        "colab": {
          "base_uri": "https://localhost:8080/"
        },
        "id": "wDF7zXBCX6y1",
        "outputId": "c1f8ed17-0a39-4103-b9d6-c91ed998d36f"
      },
      "source": [
        "import numpy as np\n",
        "from keras.preprocessing import image\n",
        "test_image = image.load_img('/content/audi.jpg', target_size = (64, 64))\n",
        "test_image = image.img_to_array(test_image)\n",
        "test_image = np.expand_dims(test_image, axis = 0)\n",
        "result = model.predict(test_image)\n",
        "print(result)\n",
        "#Audi -1"
      ],
      "execution_count": null,
      "outputs": [
        {
          "output_type": "stream",
          "name": "stdout",
          "text": [
            "1/1 [==============================] - 0s 122ms/step\n",
            "[[1. 0. 0.]]\n"
          ]
        }
      ]
    },
    {
      "cell_type": "code",
      "source": [
        "import numpy as np\n",
        "from keras.preprocessing import image\n",
        "test_image = image.load_img('/content/lam.jpg', target_size = (64, 64))\n",
        "test_image = image.img_to_array(test_image)\n",
        "test_image = np.expand_dims(test_image, axis = 0)\n",
        "result = model.predict(test_image)\n",
        "print(result)\n",
        "#Lam-010"
      ],
      "metadata": {
        "colab": {
          "base_uri": "https://localhost:8080/"
        },
        "id": "W1zVONzLJxRq",
        "outputId": "925e6d92-95bc-405d-c4b0-b0438c0dd4c9"
      },
      "execution_count": null,
      "outputs": [
        {
          "output_type": "stream",
          "name": "stdout",
          "text": [
            "1/1 [==============================] - 0s 26ms/step\n",
            "[[0. 1. 0.]]\n"
          ]
        }
      ]
    },
    {
      "cell_type": "code",
      "source": [
        "import numpy as np\n",
        "from keras.preprocessing import image\n",
        "test_image = image.load_img('/content/mer.jpg', target_size = (64, 64))\n",
        "test_image = image.img_to_array(test_image)\n",
        "test_image = np.expand_dims(test_image, axis = 0)\n",
        "result = model.predict(test_image)\n",
        "print(result)\n",
        "#mer-001"
      ],
      "metadata": {
        "colab": {
          "base_uri": "https://localhost:8080/"
        },
        "id": "4ICUKc7Q1hWu",
        "outputId": "1b5efb20-ea34-43fc-e2a4-1eff05d2f9bb"
      },
      "execution_count": null,
      "outputs": [
        {
          "output_type": "stream",
          "name": "stdout",
          "text": [
            "1/1 [==============================] - 0s 25ms/step\n",
            "[[0. 0. 1.]]\n"
          ]
        }
      ]
    },
    {
      "cell_type": "code",
      "source": [
        "import numpy as np\n",
        "from keras.preprocessing import image\n",
        "test_image = image.load_img('/content/audi1.jpg', target_size = (64, 64))\n",
        "test_image = image.img_to_array(test_image)\n",
        "test_image = np.expand_dims(test_image, axis = 0)\n",
        "result = model.predict(test_image)\n",
        "print(result)\n",
        "#Audi-100"
      ],
      "metadata": {
        "colab": {
          "base_uri": "https://localhost:8080/"
        },
        "id": "Jw4k9Zx917Zj",
        "outputId": "1558eab4-afac-47f3-f26b-8c2a769644b5"
      },
      "execution_count": null,
      "outputs": [
        {
          "output_type": "stream",
          "name": "stdout",
          "text": [
            "1/1 [==============================] - 0s 26ms/step\n",
            "[[1. 0. 0.]]\n"
          ]
        }
      ]
    }
  ]
}